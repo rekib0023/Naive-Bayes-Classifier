{
 "cells": [
  {
   "cell_type": "markdown",
   "metadata": {},
   "source": [
    "# Naive Bayes Classifier"
   ]
  },
  {
   "cell_type": "markdown",
   "metadata": {},
   "source": [
    "### What is a classifier?\n",
    "\n",
    "A classifier is a machine learning model that is used to discriminate different objects based on certain features."
   ]
  },
  {
   "cell_type": "markdown",
   "metadata": {},
   "source": [
    "In machine learning, naïve Bayes classifiers are a family of simple \"probabilistic classifiers\" based on applying Bayes' theorem with strong (naïve) independence assumptions between the features. "
   ]
  },
  {
   "cell_type": "markdown",
   "metadata": {},
   "source": [
    "In the statistics and computer science literature, naive Bayes models are known under a variety of names, including simple Bayes and independence Bayes. All these names reference the use of Bayes' theorem in the classifier's decision rule, but naïve Bayes is not (necessarily) a Bayesian method."
   ]
  },
  {
   "cell_type": "markdown",
   "metadata": {},
   "source": [
    "## Introduction\n",
    "Naive Bayes is a simple technique for constructing classifiers: models that assign class labels to problem instances, represented as vectors of feature values, where the class labels are drawn from some finite set. There is not a single algorithm for training such classifiers, but a family of algorithms based on a common principle: all naive Bayes classifiers assume that the value of a particular feature is independent of the value of any other feature, given the class variable."
   ]
  },
  {
   "cell_type": "markdown",
   "metadata": {},
   "source": [
    "A Naive Bayes classifier is a probabilistic machine learning model that’s used for classification task. The crux of the classifier is based on the Bayes theorem."
   ]
  },
  {
   "cell_type": "markdown",
   "metadata": {},
   "source": [
    "### Probabilistic Model\n",
    "Abstractly, naive Bayes is a conditional probability model: given a problem instance to be classified, represented by a vector $ X = (x_1, . . . , x_n) $ representing some n features (independent variables), it assigns to this instance probabilities \n",
    "     $ p(C_k | x_1, . . . , x_n) $\n",
    "for each of K possible outcomes or classes $ C_k$"
   ]
  },
  {
   "cell_type": "markdown",
   "metadata": {},
   "source": [
    "The problem with the above formulation is that if the number of features n is large or if a feature can take on a large number of values, then basing such a model on probability tables is infeasible. We therefore reformulate the model to make it more tractable. Using Bayes' theorem, the conditional probability can be decomposed as\n",
    "\n",
    "$\\qquad p(C_k | X) = \\frac{p(C_k)p(x | C_k)}{p(X)} $\n",
    "\n",
    "In plain English, using Bayesian probability terminology, the above equation can be written as\n",
    "    \n",
    " $\\qquad posterior = \\frac{prior \\: \\times \\: likelihood}{evidence} $\n",
    "\n",
    "Above, \n",
    "<ul>\n",
    "    <li> $ p(C_k | X) $ is the posterior probability of class (c, target) given predictor (x, attributes).</li>\n",
    "    <li>$ p(C_k) $ is the prior probability of class.</li>\n",
    "    <li>$ p(X | C_k) $ is the likelihood which is the probability of predictor given class.</li>\n",
    "    <li>$ p(X) $ is the prior probability of predictor.</li>\n",
    "</ul>"
   ]
  },
  {
   "cell_type": "markdown",
   "metadata": {},
   "source": [
    "In simple words:\n",
    "If H is some hypothesis and E is the evidence then:\n",
    "$p(H|E) = \\frac{p(E|H).p(H)}{p(E)}$\n",
    "- Posterior $ p(H|E) $: How probable is our hypothesis given the observed evidence?\n",
    "- Likelihood $ p(E|H) $: How probable is the evidence given that our hypothesis is true? \n",
    "- Prior $ p(H) $: How probable was our hypothesis before observing the evidence? "
   ]
  },
  {
   "cell_type": "markdown",
   "metadata": {},
   "source": [
    "We have the Bayes' theorem as:\n",
    "$ p(C_k | X) = \\frac{p(C_k)p(x | C_k)}{p(X)} $<br><br>\n",
    "Now substituting the value for $X(X = (x_1, . . . , x_n) $ ) and expanding using the chain rule, we get: <br><br>\n",
    "$\\qquad p(C_k|x_1,...,x_n)=\\frac{p(C_k)p(x_1|C_k)p(x_2|C_k)...p(x_n|C_k)}{p(x_1)p(x_2)...p(x_n)}$ <br><br>\n",
    "In practice, there is interest only in the numerator of that fraction, because the denominator does not depend on $C$ and the values of the features $x_i$ are given, so that the denominator is effectively constant. Thus: <br><br>\n",
    "$\\qquad p(C_k|x_1,...,x_n) \\:\\alpha \\: p(C_k)\\prod_{i=1}^np(x_i|C_k)$"
   ]
  },
  {
   "cell_type": "markdown",
   "metadata": {},
   "source": [
    "### Constructing a classifier from the probability model\n",
    "The discussion so far has derived the independent feature model, that is, the naive Bayes probability model. The naive Bayes classifier combines this model with a decision rule. One common rule is to pick the hypothesis that is most probable; this is known as the ___maximum a posteriori___ or MAP decision rule. The corresponding classifier, a ___Bayes classifier___, is the function that assigns a class label $\\hat{y}$ for some $k$ as follows: <br><br>\n",
    "$\\qquad\\hat{y}\\: = \\: \\underset{k \\in \\{1,...,K\\}}\\argmax p(C_k)\\prod_{i=1}^np(x_i|C_k)$"
   ]
  },
  {
   "cell_type": "markdown",
   "metadata": {},
   "source": [
    "### Types of Naive Bayes Classifier:\n",
    "#### Multinomial Naive Bayes:\n",
    "This is mostly used for document classification problem, i.e whether a document belongs to the category of sports, politics, technology etc. The features/predictors used by the classifier are the frequency of the words present in the document.\n",
    "\n",
    "#### Bernoulli Naive Bayes:\n",
    "This is similar to the multinomial naive bayes but the predictors are boolean variables. The parameters that we use to predict the class variable take up only values yes or no, for example if a word occurs in the text or not.\n",
    "\n",
    "#### Gaussian Naive Bayes:\n",
    "When the predictors take up a continuous value and are not discrete, we assume that these values are sampled from a gaussian distribution."
   ]
  },
  {
   "cell_type": "markdown",
   "metadata": {},
   "source": [
    "### Conclusion:\n",
    "Naive Bayes algorithms are mostly used in sentiment analysis, spam filtering, recommendation systems etc. They are fast and easy to implement but their biggest disadvantage is that the requirement of predictors to be independent. In most of the real life cases, the predictors are dependent, this hinders the performance of the classifier."
   ]
  },
  {
   "cell_type": "markdown",
   "metadata": {},
   "source": [
    "## Looking with an example"
   ]
  },
  {
   "cell_type": "markdown",
   "metadata": {},
   "source": [
    "___Problem Statement:___ To predict whether a person will play cricket on a specific combination of Outlook, Temperature, Humidity, and Windy, situations."
   ]
  },
  {
   "cell_type": "markdown",
   "metadata": {},
   "source": [
    "|Day |OUTLOOK   |TEMPERATURE|HUMIDITY|WINDY|PLAY CRICKET|\n",
    "|----|----------|-----------|--------|-----|------------|\n",
    "|1   |Rainy     |Hot        |High    |False|No          |\n",
    "|2   |Rainy     |Hot        |High    |True |No          |\n",
    "|3   |Overcast  |Hot        |High    |False|Yes         |\n",
    "|4   |Sunny     |Mild       |High    |False|Yes         |\n",
    "|5   |Sunny     |Cool       |Normal  |False|Yes         |\n",
    "|6   |Sunny     |Cool       |Normal  |True |No          |\n",
    "|7   |Overcast  |Cool       |Normal  |True |Yes         |\n",
    "|8   |Rainy     |Mild       |High    |False|No          |\n",
    "|9   |Rainy     |Cool       |Normal  |False|Yes         |\n",
    "|10  |Sunny     |Mild       |Normal  |False|Yes         |\n",
    "|11  |Rainy     |Mild       |Normal  |True |Yes         |\n",
    "|12  |Overcast  |Mild       |High    |True |Yes         |\n",
    "|13  |Overcast  |Hot        |Normal  |False|Yes         |\n",
    "|14  |Sunny     |Mild       |High    |True |No          |"
   ]
  },
  {
   "cell_type": "markdown",
   "metadata": {},
   "source": [
    "##### Now let's make a frequency table for each of the attributes"
   ]
  },
  {
   "cell_type": "markdown",
   "metadata": {},
   "source": [
    "__Outlook:__\n",
    "<table style=\"border: 1px solid black;\n",
    "  border-collapse: collapse;\">\n",
    "    <tr style=\"border: 1px solid black;\n",
    "  border-collapse: collapse;\">\n",
    "        <th colspan=\"2\" rowspan=\"2\" style=\"border: 1px solid black;\n",
    "  border-collapse: collapse;\">Frequency Table</th>\n",
    "        <th colspan=\"2\" style=\"border: 1px solid black;\n",
    "  border-collapse: collapse;\">Play</th>\n",
    "    </tr>\n",
    "    <tr style=\"border: 1px solid black;\n",
    "  border-collapse: collapse;\">\n",
    "        <th style=\"border: 1px solid black;\n",
    "  border-collapse: collapse;\">Yes</th>\n",
    "        <th style=\"border: 1px solid black;\n",
    "  border-collapse: collapse;\">No</th>\n",
    "    </tr>\n",
    "    <tr style=\"border: 1px solid black;\n",
    "  border-collapse: collapse;\">\n",
    "        <th rowspan=\"3\" style=\"border: 1px solid black;\n",
    "  border-collapse: collapse;\">Outlook</th>\n",
    "        <th style=\"border: 1px solid black;\n",
    "  border-collapse: collapse;\">Sunny</th>\n",
    "        <td style=\"border: 1px solid black;\n",
    "  border-collapse: collapse;\">3</td>\n",
    "        <td style=\"border: 1px solid black;\n",
    "  border-collapse: collapse;\">2</td>\n",
    "    </tr>\n",
    "    <tr style=\"border: 1px solid black;\n",
    "  border-collapse: collapse;\">\n",
    "        <th style=\"border: 1px solid black;\n",
    "  border-collapse: collapse;\">Overcast</th>\n",
    "        <td style=\"border: 1px solid black;\n",
    "  border-collapse: collapse;\">4</td>\n",
    "        <td style=\"border: 1px solid black;\n",
    "  border-collapse: collapse;\">0</td>\n",
    "    </tr>\n",
    "    <tr style=\"border: 1px solid black;\n",
    "  border-collapse: collapse;\">\n",
    "        <th style=\"border: 1px solid black;\n",
    "  border-collapse: collapse;\">Rainy</th>\n",
    "        <td style=\"border: 1px solid black;\n",
    "  border-collapse: collapse;\">2</td>\n",
    "        <td style=\"border: 1px solid black;\n",
    "  border-collapse: collapse;\">3</td>\n",
    "    </tr>\n",
    "</table>"
   ]
  },
  {
   "cell_type": "markdown",
   "metadata": {},
   "source": [
    "__Temperature:__\n",
    "<table style=\"border: 1px solid black;\n",
    "  border-collapse: collapse;\">\n",
    "    <tr style=\"border: 1px solid black;\n",
    "  border-collapse: collapse;\">\n",
    "        <th style=\"border: 1px solid black;\n",
    "  border-collapse: collapse;\" colspan=\"2\" rowspan=\"2\">Frequency Table</th>\n",
    "        <th style=\"border: 1px solid black;\n",
    "  border-collapse: collapse;\" colspan=\"2\">Play</th>\n",
    "    </tr>\n",
    "    <tr style=\"border: 1px solid black;\n",
    "  border-collapse: collapse;\">\n",
    "        <th style=\"border: 1px solid black;\n",
    "  border-collapse: collapse;\">Yes</th>\n",
    "        <th style=\"border: 1px solid black;\n",
    "  border-collapse: collapse;\">No</th>\n",
    "    </tr>\n",
    "    <tr style=\"border: 1px solid black;\n",
    "  border-collapse: collapse;\">\n",
    "        <th style=\"border: 1px solid black;\n",
    "  border-collapse: collapse;\" rowspan=\"3\">Temperature</th>\n",
    "        <th style=\"border: 1px solid black;\n",
    "  border-collapse: collapse;\">Hot</th>\n",
    "        <td style=\"border: 1px solid black;\n",
    "  border-collapse: collapse;\">2</td>\n",
    "        <td style=\"border: 1px solid black;\n",
    "  border-collapse: collapse;\">2</td>\n",
    "    </tr>\n",
    "    <tr style=\"border: 1px solid black;\n",
    "  border-collapse: collapse;\">\n",
    "        <th style=\"border: 1px solid black;\n",
    "  border-collapse: collapse;\">Mild</th>\n",
    "        <td style=\"border: 1px solid black;\n",
    "  border-collapse: collapse;\">4</td>\n",
    "        <td style=\"border: 1px solid black;\n",
    "  border-collapse: collapse;\">2</td>\n",
    "    </tr>\n",
    "    <tr style=\"border: 1px solid black;\n",
    "  border-collapse: collapse;\">\n",
    "        <th style=\"border: 1px solid black;\n",
    "  border-collapse: collapse;\">Cool</th>\n",
    "        <td style=\"border: 1px solid black;\n",
    "  border-collapse: collapse;\">3</td>\n",
    "        <td style=\"border: 1px solid black;\n",
    "  border-collapse: collapse;\">1</td>\n",
    "    </tr>\n",
    "</table>"
   ]
  },
  {
   "cell_type": "markdown",
   "metadata": {},
   "source": [
    "__Humidity:__\n",
    "<table style=\"border: 1px solid black;\n",
    "  border-collapse: collapse;\">\n",
    "    <tr style=\"border: 1px solid black;\n",
    "  border-collapse: collapse;\">\n",
    "        <th style=\"border: 1px solid black;\n",
    "  border-collapse: collapse;\" colspan=\"2\" rowspan=\"2\">Frequency Table</th>\n",
    "        <th style=\"border: 1px solid black;\n",
    "  border-collapse: collapse;\" colspan=\"2\">Play</th>\n",
    "    </tr>\n",
    "    <tr style=\"border: 1px solid black;\n",
    "  border-collapse: collapse;\">\n",
    "        <th style=\"border: 1px solid black;\n",
    "  border-collapse: collapse;\">Yes</th>\n",
    "        <th style=\"border: 1px solid black;\n",
    "  border-collapse: collapse;\">No</th>\n",
    "    </tr>\n",
    "    <tr style=\"border: 1px solid black;\n",
    "  border-collapse: collapse;\">\n",
    "        <th style=\"border: 1px solid black;\n",
    "  border-collapse: collapse;\" rowspan=\"2\">Humidity</th>\n",
    "        <th style=\"border: 1px solid black;\n",
    "  border-collapse: collapse;\">High</th>\n",
    "        <td style=\"border: 1px solid black;\n",
    "  border-collapse: collapse;\">3</td>\n",
    "        <td style=\"border: 1px solid black;\n",
    "  border-collapse: collapse;\">4</td>\n",
    "    </tr>\n",
    "    <tr style=\"border: 1px solid black;\n",
    "  border-collapse: collapse;\">\n",
    "        <th style=\"border: 1px solid black;\n",
    "  border-collapse: collapse;\">Normal</th>\n",
    "        <td style=\"border: 1px solid black;\n",
    "  border-collapse: collapse;\">6</td>\n",
    "        <td style=\"border: 1px solid black;\n",
    "  border-collapse: collapse;\">1</td>\n",
    "    </tr>\n",
    "</table>"
   ]
  },
  {
   "cell_type": "markdown",
   "metadata": {},
   "source": [
    "__Windy:__\n",
    "<table style=\"border: 1px solid black;\n",
    "  border-collapse: collapse;\">\n",
    "    <tr style=\"border: 1px solid black;\n",
    "  border-collapse: collapse;\">\n",
    "        <th style=\"border: 1px solid black;\n",
    "  border-collapse: collapse;\" colspan=\"2\" rowspan=\"2\">Frequency Table</th>\n",
    "        <th style=\"border: 1px solid black;\n",
    "  border-collapse: collapse;\" colspan=\"2\">Play</th>\n",
    "    </tr>\n",
    "    <tr style=\"border: 1px solid black;\n",
    "  border-collapse: collapse;\">\n",
    "        <th style=\"border: 1px solid black;\n",
    "  border-collapse: collapse;\">Yes</th>\n",
    "        <th style=\"border: 1px solid black;\n",
    "  border-collapse: collapse;\">No</th>\n",
    "    </tr>\n",
    "    <tr style=\"border: 1px solid black;\n",
    "  border-collapse: collapse;\">\n",
    "        <th style=\"border: 1px solid black;\n",
    "  border-collapse: collapse;\" rowspan=\"2\">Windy</th>\n",
    "        <th style=\"border: 1px solid black;\n",
    "  border-collapse: collapse;\">False</th>\n",
    "        <td style=\"border: 1px solid black;\n",
    "  border-collapse: collapse;\">6</td>\n",
    "        <td style=\"border: 1px solid black;\n",
    "  border-collapse: collapse;\">2</td>\n",
    "    </tr>\n",
    "    <tr style=\"border: 1px solid black;\n",
    "  border-collapse: collapse;\">\n",
    "        <th style=\"border: 1px solid black;\n",
    "  border-collapse: collapse;\">True</th>\n",
    "        <td style=\"border: 1px solid black;\n",
    "  border-collapse: collapse;\">3</td>\n",
    "        <td style=\"border: 1px solid black;\n",
    "  border-collapse: collapse;\">3</td>\n",
    "    </tr>\n",
    "</table>"
   ]
  },
  {
   "cell_type": "markdown",
   "metadata": {},
   "source": [
    "Suppose we want to know if the person will play on a day with following values <br>\n",
    "    $\\qquad$Outlook = Sunny, Temperature = Hot, Humidity = Normal, Windy = False"
   ]
  },
  {
   "cell_type": "markdown",
   "metadata": {},
   "source": [
    "___Now let's make the likelihood table of each attribute___"
   ]
  },
  {
   "cell_type": "markdown",
   "metadata": {},
   "source": [
    "Total no of yes: 9\n",
    "Total no of no: 5"
   ]
  },
  {
   "cell_type": "markdown",
   "metadata": {},
   "source": [
    "__Outlook:__\n",
    "<table style=\"border: 1px solid black;\n",
    "  border-collapse: collapse;\">\n",
    "    <tr style=\"border: 1px solid black;\n",
    "  border-collapse: collapse;\">\n",
    "        <th colspan=\"2\" rowspan=\"2\" style=\"border: 1px solid black;\n",
    "  border-collapse: collapse;\">Likelihood Table</th>\n",
    "        <th colspan=\"2\" style=\"border: 1px solid black;\n",
    "  border-collapse: collapse;\">Play</th>\n",
    "        <th rowspan=\"2\" style=\"border: 1px solid black;\n",
    "  border-collapse: collapse;\"></th>\n",
    "    </tr>\n",
    "    <tr style=\"border: 1px solid black;\n",
    "  border-collapse: collapse;\">\n",
    "        <th style=\"border: 1px solid black;\n",
    "  border-collapse: collapse;\">Yes</th>\n",
    "        <th style=\"border: 1px solid black;\n",
    "  border-collapse: collapse;\">No</th>\n",
    "    </tr>\n",
    "    <tr style=\"border: 1px solid black;\n",
    "  border-collapse: collapse;\">\n",
    "        <th rowspan=\"3\" style=\"border: 1px solid black;\n",
    "  border-collapse: collapse;\">Outlook</th>\n",
    "        <th style=\"border: 1px solid black;\n",
    "  border-collapse: collapse;\">Sunny</th>\n",
    "        <td style=\"border: 1px solid black;\n",
    "  border-collapse: collapse;\">3/9</td>\n",
    "        <td style=\"border: 1px solid black;\n",
    "  border-collapse: collapse;\">2/5</td>\n",
    "        <td style=\"border: 1px solid black;\n",
    "  border-collapse: collapse;\">5/14</td>\n",
    "    </tr>\n",
    "    <tr style=\"border: 1px solid black;\n",
    "  border-collapse: collapse;\">\n",
    "        <th style=\"border: 1px solid black;\n",
    "  border-collapse: collapse;\">Overcast</th>\n",
    "        <td style=\"border: 1px solid black;\n",
    "  border-collapse: collapse;\">4/9</td>\n",
    "        <td style=\"border: 1px solid black;\n",
    "  border-collapse: collapse;\">0/5</td>\n",
    "        <td style=\"border: 1px solid black;\n",
    "  border-collapse: collapse;\">4/14</td>\n",
    "    </tr>\n",
    "    <tr style=\"border: 1px solid black;\n",
    "  border-collapse: collapse;\">\n",
    "        <th style=\"border: 1px solid black;\n",
    "  border-collapse: collapse;\">Rainy</th>\n",
    "        <td style=\"border: 1px solid black;\n",
    "  border-collapse: collapse;\">2/9</td>\n",
    "        <td style=\"border: 1px solid black;\n",
    "  border-collapse: collapse;\">3/5</td>\n",
    "        <td style=\"border: 1px solid black;\n",
    "  border-collapse: collapse;\">5/14</td>\n",
    "    </tr>\n",
    "    <tr style=\"border: 1px solid black;\n",
    "  border-collapse: collapse;\">\n",
    "        <th style=\"border: 1px solid black;\n",
    "  border-collapse: collapse;\" colspan=\"2\"></th>\n",
    "        <td style=\"border: 1px solid black;\n",
    "  border-collapse: collapse;\">9/14</td>\n",
    "        <td style=\"border: 1px solid black;\n",
    "  border-collapse: collapse;\">5/14</td>\n",
    "    </tr>\n",
    "</table>"
   ]
  },
  {
   "cell_type": "markdown",
   "metadata": {},
   "source": [
    "__Temperature:__\n",
    "<table style=\"border: 1px solid black;\n",
    "  border-collapse: collapse;\">\n",
    "    <tr style=\"border: 1px solid black;\n",
    "  border-collapse: collapse;\">\n",
    "        <th style=\"border: 1px solid black;\n",
    "  border-collapse: collapse;\" colspan=\"2\" rowspan=\"2\">Likelihood Table</th>\n",
    "        <th style=\"border: 1px solid black;\n",
    "  border-collapse: collapse;\" colspan=\"2\">Play</th>\n",
    "        <th rowspan=\"2\" style=\"border: 1px solid black;\n",
    "  border-collapse: collapse;\"></th>\n",
    "    </tr>\n",
    "    <tr style=\"border: 1px solid black;\n",
    "  border-collapse: collapse;\">\n",
    "        <th style=\"border: 1px solid black;\n",
    "  border-collapse: collapse;\">Yes</th>\n",
    "        <th style=\"border: 1px solid black;\n",
    "  border-collapse: collapse;\">No</th>\n",
    "    </tr>\n",
    "    <tr style=\"border: 1px solid black;\n",
    "  border-collapse: collapse;\">\n",
    "        <th style=\"border: 1px solid black;\n",
    "  border-collapse: collapse;\" rowspan=\"3\">Temperature</th>\n",
    "        <th style=\"border: 1px solid black;\n",
    "  border-collapse: collapse;\">Hot</th>\n",
    "        <td style=\"border: 1px solid black;\n",
    "  border-collapse: collapse;\">2/9</td>\n",
    "        <td style=\"border: 1px solid black;\n",
    "  border-collapse: collapse;\">2/5</td>\n",
    "        <td style=\"border: 1px solid black;\n",
    "  border-collapse: collapse;\">4/14</td>\n",
    "    </tr>\n",
    "    <tr style=\"border: 1px solid black;\n",
    "  border-collapse: collapse;\">\n",
    "        <th style=\"border: 1px solid black;\n",
    "  border-collapse: collapse;\">Mild</th>\n",
    "        <td style=\"border: 1px solid black;\n",
    "  border-collapse: collapse;\">4/9</td>\n",
    "        <td style=\"border: 1px solid black;\n",
    "  border-collapse: collapse;\">2/5</td>\n",
    "        <td style=\"border: 1px solid black;\n",
    "  border-collapse: collapse;\">6/14</td>\n",
    "    </tr>\n",
    "    <tr style=\"border: 1px solid black;\n",
    "  border-collapse: collapse;\">\n",
    "        <th style=\"border: 1px solid black;\n",
    "  border-collapse: collapse;\">Cool</th>\n",
    "        <td style=\"border: 1px solid black;\n",
    "  border-collapse: collapse;\">3/9</td>\n",
    "        <td style=\"border: 1px solid black;\n",
    "  border-collapse: collapse;\">1/5</td>\n",
    "        <td style=\"border: 1px solid black;\n",
    "  border-collapse: collapse;\">4/14</td>\n",
    "    </tr>\n",
    "    </tr>\n",
    "    <tr style=\"border: 1px solid black;\n",
    "  border-collapse: collapse;\">\n",
    "        <th style=\"border: 1px solid black;\n",
    "  border-collapse: collapse;\" colspan=\"2\"></th>\n",
    "        <td style=\"border: 1px solid black;\n",
    "  border-collapse: collapse;\">9/14</td>\n",
    "        <td style=\"border: 1px solid black;\n",
    "  border-collapse: collapse;\">5/14</td>\n",
    "    </tr>\n",
    "</table>"
   ]
  },
  {
   "cell_type": "markdown",
   "metadata": {},
   "source": [
    "__Humidity:__\n",
    "<table style=\"border: 1px solid black;\n",
    "  border-collapse: collapse;\">\n",
    "    <tr style=\"border: 1px solid black;\n",
    "  border-collapse: collapse;\">\n",
    "        <th style=\"border: 1px solid black;\n",
    "  border-collapse: collapse;\" colspan=\"2\" rowspan=\"2\">Likelihood Table</th>\n",
    "        <th style=\"border: 1px solid black;\n",
    "  border-collapse: collapse;\" colspan=\"2\">Play</th>\n",
    "        <th rowspan=\"2\" style=\"border: 1px solid black;\n",
    "  border-collapse: collapse;\"></th>\n",
    "    </tr>\n",
    "    <tr style=\"border: 1px solid black;\n",
    "  border-collapse: collapse;\">\n",
    "        <th style=\"border: 1px solid black;\n",
    "  border-collapse: collapse;\">Yes</th>\n",
    "        <th style=\"border: 1px solid black;\n",
    "  border-collapse: collapse;\">No</th>\n",
    "    </tr>\n",
    "    <tr style=\"border: 1px solid black;\n",
    "  border-collapse: collapse;\">\n",
    "        <th style=\"border: 1px solid black;\n",
    "  border-collapse: collapse;\" rowspan=\"2\">Humidity</th>\n",
    "        <th style=\"border: 1px solid black;\n",
    "  border-collapse: collapse;\">High</th>\n",
    "        <td style=\"border: 1px solid black;\n",
    "  border-collapse: collapse;\">3/9</td>\n",
    "        <td style=\"border: 1px solid black;\n",
    "  border-collapse: collapse;\">4/5</td>\n",
    "        <td style=\"border: 1px solid black;\n",
    "  border-collapse: collapse;\">7/14</td>\n",
    "    </tr>\n",
    "    <tr style=\"border: 1px solid black;\n",
    "  border-collapse: collapse;\">\n",
    "        <th style=\"border: 1px solid black;\n",
    "  border-collapse: collapse;\">Normal</th>\n",
    "        <td style=\"border: 1px solid black;\n",
    "  border-collapse: collapse;\">6//9</td>\n",
    "        <td style=\"border: 1px solid black;\n",
    "  border-collapse: collapse;\">1/5</td>\n",
    "        <td style=\"border: 1px solid black;\n",
    "  border-collapse: collapse;\">7/14</td>\n",
    "    </tr>\n",
    "    <tr style=\"border: 1px solid black;\n",
    "  border-collapse: collapse;\">\n",
    "        <th style=\"border: 1px solid black;\n",
    "  border-collapse: collapse;\" colspan=\"2\"></th>\n",
    "        <td style=\"border: 1px solid black;\n",
    "  border-collapse: collapse;\">9/14</td>\n",
    "        <td style=\"border: 1px solid black;\n",
    "  border-collapse: collapse;\">5/14</td>\n",
    "    </tr>\n",
    "</table>"
   ]
  },
  {
   "cell_type": "markdown",
   "metadata": {},
   "source": [
    "__Windy:__\n",
    "<table style=\"border: 1px solid black;\n",
    "  border-collapse: collapse;\">\n",
    "    <tr style=\"border: 1px solid black;\n",
    "  border-collapse: collapse;\">\n",
    "        <th style=\"border: 1px solid black;\n",
    "  border-collapse: collapse;\" colspan=\"2\" rowspan=\"2\">Likelihood Table</th>\n",
    "        <th style=\"border: 1px solid black;\n",
    "  border-collapse: collapse;\" colspan=\"2\">Play</th>\n",
    "        <th rowspan=\"2\" style=\"border: 1px solid black;\n",
    "  border-collapse: collapse;\"></th>\n",
    "    </tr>\n",
    "    <tr style=\"border: 1px solid black;\n",
    "  border-collapse: collapse;\">\n",
    "        <th style=\"border: 1px solid black;\n",
    "  border-collapse: collapse;\">Yes</th>\n",
    "        <th style=\"border: 1px solid black;\n",
    "  border-collapse: collapse;\">No</th>\n",
    "    </tr>\n",
    "    <tr style=\"border: 1px solid black;\n",
    "  border-collapse: collapse;\">\n",
    "        <th style=\"border: 1px solid black;\n",
    "  border-collapse: collapse;\" rowspan=\"2\">Windy</th>\n",
    "        <th style=\"border: 1px solid black;\n",
    "  border-collapse: collapse;\">False</th>\n",
    "        <td style=\"border: 1px solid black;\n",
    "  border-collapse: collapse;\">6/9</td>\n",
    "        <td style=\"border: 1px solid black;\n",
    "  border-collapse: collapse;\">2/5</td>        \n",
    "        <td style=\"border: 1px solid black;\n",
    "  border-collapse: collapse;\">8/14</td>\n",
    "    </tr>\n",
    "    <tr style=\"border: 1px solid black;\n",
    "  border-collapse: collapse;\">\n",
    "        <th style=\"border: 1px solid black;\n",
    "  border-collapse: collapse;\">True</th>\n",
    "        <td style=\"border: 1px solid black;\n",
    "  border-collapse: collapse;\">3/9</td>\n",
    "        <td style=\"border: 1px solid black;\n",
    "  border-collapse: collapse;\">3/5</td>        \n",
    "        <td style=\"border: 1px solid black;\n",
    "  border-collapse: collapse;\">6/14</td>\n",
    "    </tr>\n",
    "    <tr style=\"border: 1px solid black;\n",
    "  border-collapse: collapse;\">\n",
    "        <th style=\"border: 1px solid black;\n",
    "  border-collapse: collapse;\" colspan=\"2\"></th>\n",
    "        <td style=\"border: 1px solid black;\n",
    "  border-collapse: collapse;\">9/14</td>\n",
    "        <td style=\"border: 1px solid black;\n",
    "  border-collapse: collapse;\">5/14</td>\n",
    "    </tr>\n",
    "</table>"
   ]
  },
  {
   "cell_type": "markdown",
   "metadata": {},
   "source": [
    "#### Evaluating Posterior"
   ]
  },
  {
   "cell_type": "markdown",
   "metadata": {},
   "source": [
    "Likelihood of \"Yes\" on that day  <br>\n",
    "Where $B$ equals:\n",
    "- Outlook = Sunny\n",
    "- Temperature = Hot\n",
    "- Humidity = Normal\n",
    "- Windy = False<br>\n",
    "\n",
    "Let $A = Yes$ <br>\n",
    "\n",
    "$\\qquad p(A|B) = p(Yes|Outlook = Sunny, Temperature = Hot, Humidity = Normal, Windy = False)$<br>\n",
    "$\\qquad p(Outlook=Sunny|Yes)\\times p(Temperature=Hot|Yes)\\times p(Humidity=Normal|Yes)\\times p(Windy=False|Yes)\\times p(Yes)$<br>\n",
    "$\\qquad = 3/9 \\times 2/9 \\times 6/9 \\times 6/9 \\times 9/14$<br>\n",
    "$\\qquad = 0.0212$<br><br>\n",
    "\n",
    "Likelihood of \"No\" on that day  <br>\n",
    "Where $B$ equals:\n",
    "- Outlook = Sunny\n",
    "- Temperature = Hot\n",
    "- Humidity = Normal\n",
    "- Windy = False<br>\n",
    "\n",
    "Let $A = No$ <br>\n",
    "\n",
    "$\\qquad p(A|B) = p(No|Outlook = Sunny, Temperature = Hot, Humidity = Normal, Windy = False)$<br>\n",
    "$\\qquad p(Outlook=Sunny|No)\\times p(Temperature=Hot|No)\\times p(Humidity=Normal|No)\\times p(Windy=False|No)\\times p(No)$<br>\n",
    "$\\qquad = 2/5 \\times 2/5 \\times 1/5 \\times 2/5 \\times 5/14$<br>\n",
    "$\\qquad = 0.0046$<br><br>\n",
    "\n",
    "Probability of Yes for that day playing: <br>\n",
    "$\\qquad p(Yes) = 0.0212\\:/\\:(0.0212+0.0046) = 0.82$<br><br>\n",
    "Probability of No for that day playing: <br>\n",
    "$\\qquad p(No) = 0.0046\\:/\\:(0.0212+0.0046) = 0.18$<br>"
   ]
  },
  {
   "cell_type": "markdown",
   "metadata": {},
   "source": [
    "___Our model predicts that there is a 82% chance there will be game on that day.___"
   ]
  },
  {
   "cell_type": "markdown",
   "metadata": {},
   "source": [
    "# Implementing Naive Bayes Classifier with Python"
   ]
  },
  {
   "cell_type": "markdown",
   "metadata": {},
   "source": [
    "Going to implement the Naive Bayes Classifier from scratch in python. And then apply the classifier to detect spam emails"
   ]
  },
  {
   "cell_type": "code",
   "execution_count": 1,
   "metadata": {},
   "outputs": [],
   "source": [
    "# Importing modules, glob and os, in order to find all the .txt email files and initialize variables \n",
    "# keeping text data and labels\n",
    "import glob\n",
    "import os\n",
    "emails, labels = [], []"
   ]
  },
  {
   "cell_type": "code",
   "execution_count": 2,
   "metadata": {},
   "outputs": [],
   "source": [
    "# Loading the spam email files\n",
    "filepath = 'enron1/spam'\n",
    "for filename in glob.glob(os.path.join(filepath, '*.txt')):\n",
    "    with open(filename, 'r', encoding = \"ISO-8859-1\") as infile:\n",
    "        emails.append(infile.read())\n",
    "        labels.append(1)"
   ]
  },
  {
   "cell_type": "code",
   "execution_count": 3,
   "metadata": {},
   "outputs": [],
   "source": [
    "# Loading the ham email files\n",
    "filepath = 'enron1/ham'\n",
    "for filename in glob.glob(os.path.join(filepath, '*.txt')):\n",
    "    with open(filename, 'r', encoding = \"ISO-8859-1\") as infile:\n",
    "        emails.append(infile.read())\n",
    "        labels.append(0)"
   ]
  },
  {
   "cell_type": "code",
   "execution_count": 4,
   "metadata": {},
   "outputs": [
    {
     "data": {
      "text/plain": [
       "5163"
      ]
     },
     "execution_count": 4,
     "metadata": {},
     "output_type": "execute_result"
    }
   ],
   "source": [
    "len(emails)"
   ]
  },
  {
   "cell_type": "code",
   "execution_count": 5,
   "metadata": {},
   "outputs": [
    {
     "data": {
      "text/plain": [
       "5163"
      ]
     },
     "execution_count": 5,
     "metadata": {},
     "output_type": "execute_result"
    }
   ],
   "source": [
    "len(labels)"
   ]
  },
  {
   "cell_type": "markdown",
   "metadata": {},
   "source": [
    "## Data prepocessing "
   ]
  },
  {
   "cell_type": "markdown",
   "metadata": {},
   "source": [
    "Filtering the names with Names corpus from NLTK module, and Lemmatizing the emails."
   ]
  },
  {
   "cell_type": "code",
   "execution_count": 6,
   "metadata": {},
   "outputs": [],
   "source": [
    "# Initialized the instances of Names corpus and a lemmatizer\n",
    "from nltk.corpus import names\n",
    "from nltk.stem import WordNetLemmatizer\n",
    "def letters_only(astr):\n",
    "    return astr.isalpha()\n",
    "all_names = set(names.words())\n",
    "lemmatizer = WordNetLemmatizer()"
   ]
  },
  {
   "cell_type": "code",
   "execution_count": 7,
   "metadata": {},
   "outputs": [],
   "source": [
    "# Text cleaning functiom that filters the doc and lemmatize it\n",
    "def clean_test(docs):\n",
    "    cleaned_docs = []\n",
    "    for doc in docs:\n",
    "        cleaned_docs.append(\n",
    "        ' '.join([lemmatizer.lemmatize(word.lower())\n",
    "                 for word in doc.split()\n",
    "                 if letters_only(word)\n",
    "                 and word not in all_names]))\n",
    "    return cleaned_docs"
   ]
  },
  {
   "cell_type": "code",
   "execution_count": 8,
   "metadata": {},
   "outputs": [],
   "source": [
    "cleaned_emails = clean_test(emails)"
   ]
  },
  {
   "cell_type": "code",
   "execution_count": 9,
   "metadata": {},
   "outputs": [
    {
     "data": {
      "text/plain": [
       "'weekend entertainment alpha male plus the only multiple orgasm supplement for men prevent premature become the ultimate sex machine multiple orgasm with no erection loss your easy to use solution is here http hfg biz alpha utopia link below is for that people who dislike adv http hfg biz alpha o html'"
      ]
     },
     "execution_count": 9,
     "metadata": {},
     "output_type": "execute_result"
    }
   ],
   "source": [
    "cleaned_emails[0]"
   ]
  },
  {
   "cell_type": "markdown",
   "metadata": {},
   "source": [
    "## Feature extraction"
   ]
  },
  {
   "cell_type": "markdown",
   "metadata": {},
   "source": [
    "This leads to removing stop words, and extracting features, which are the term frequencies from the cleaned text data:"
   ]
  },
  {
   "cell_type": "code",
   "execution_count": 10,
   "metadata": {},
   "outputs": [],
   "source": [
    "from sklearn.feature_extraction.text import CountVectorizer\n",
    "cv = CountVectorizer(stop_words=\"english\", max_features=500)"
   ]
  },
  {
   "cell_type": "markdown",
   "metadata": {},
   "source": [
    "Here the max_features parameter is set to _500_, so it only considers the 500 most frequent terms. We can tweak this parameter later on in order to achiee better accuracy."
   ]
  },
  {
   "cell_type": "markdown",
   "metadata": {},
   "source": [
    "The vectorizer turns the document matrix into a term document matrix where each row is a term frequency sparse vector for a document and an email"
   ]
  },
  {
   "cell_type": "code",
   "execution_count": 11,
   "metadata": {},
   "outputs": [
    {
     "name": "stdout",
     "output_type": "stream",
     "text": [
      "  (0, 250)\t1\n",
      "  (0, 465)\t1\n",
      "  (0, 402)\t1\n",
      "  (0, 197)\t2\n",
      "  (0, 239)\t1\n",
      "  (0, 319)\t1\n",
      "  (0, 196)\t1\n"
     ]
    }
   ],
   "source": [
    "term_docs = cv.fit_transform(cleaned_emails)\n",
    "print(term_docs[0])"
   ]
  },
  {
   "cell_type": "code",
   "execution_count": 12,
   "metadata": {},
   "outputs": [
    {
     "data": {
      "text/plain": [
       "'loss'"
      ]
     },
     "execution_count": 12,
     "metadata": {},
     "output_type": "execute_result"
    }
   ],
   "source": [
    "feature_names = cv.get_feature_names()\n",
    "feature_names[250]"
   ]
  },
  {
   "cell_type": "code",
   "execution_count": 13,
   "metadata": {},
   "outputs": [
    {
     "data": {
      "text/plain": [
       "'html'"
      ]
     },
     "execution_count": 13,
     "metadata": {},
     "output_type": "execute_result"
    }
   ],
   "source": [
    "feature_names[196]"
   ]
  },
  {
   "cell_type": "code",
   "execution_count": 14,
   "metadata": {},
   "outputs": [],
   "source": [
    "feature_mapping = cv.vocabulary_"
   ]
  },
  {
   "cell_type": "markdown",
   "metadata": {},
   "source": [
    "With the feature matrix term_docs just generated, we can now build and train or naive Bayes model."
   ]
  },
  {
   "cell_type": "markdown",
   "metadata": {},
   "source": [
    "Starting with the prior, we first group the data by label:"
   ]
  },
  {
   "cell_type": "code",
   "execution_count": 15,
   "metadata": {},
   "outputs": [],
   "source": [
    "# Group the data by label\n",
    "def get_label_index(labels):\n",
    "    from collections import defaultdict\n",
    "    label_index = defaultdict(list)\n",
    "    for index, label in enumerate(labels):\n",
    "        label_index[label].append(index)\n",
    "    return label_index\n",
    "label_index = get_label_index(labels)"
   ]
  },
  {
   "cell_type": "markdown",
   "metadata": {},
   "source": [
    "The label_index looks like $\\{ 1 : [ 0, 1, 2, 3,...,], 0 :[ 1500, 1501, 1502, 1503,...,]\\}$ where training sample indices are grouped by class. With this, we calculate the prior:"
   ]
  },
  {
   "cell_type": "code",
   "execution_count": 16,
   "metadata": {},
   "outputs": [],
   "source": [
    "# prior\n",
    "def get_prior(label_index):\n",
    "    \"\"\" Compute prior based on training samples\n",
    "    Args:\n",
    "        label_index (grouped sample indices by class)\n",
    "    Returns:\n",
    "        dictionary, with class label as key, corresponding\n",
    "        prior as the value\n",
    "    \"\"\"\n",
    "    prior = {label: len(index) for label, index in label_index.items()}\n",
    "    total_count = sum(prior.values())\n",
    "    for label in prior:\n",
    "        prior[label] /= float(total_count)\n",
    "    return prior"
   ]
  },
  {
   "cell_type": "code",
   "execution_count": 17,
   "metadata": {
    "scrolled": false
   },
   "outputs": [],
   "source": [
    "prior = get_prior(label_index)"
   ]
  },
  {
   "cell_type": "code",
   "execution_count": 18,
   "metadata": {},
   "outputs": [
    {
     "data": {
      "text/plain": [
       "{1: 0.2905287623474724, 0: 0.7094712376525276}"
      ]
     },
     "execution_count": 18,
     "metadata": {},
     "output_type": "execute_result"
    }
   ],
   "source": [
    "prior"
   ]
  },
  {
   "cell_type": "code",
   "execution_count": 19,
   "metadata": {},
   "outputs": [],
   "source": [
    "# likelihood\n",
    "import numpy as np\n",
    "def get_likelihood(term_document_matrix, label_index, smoothing=0):\n",
    "    \"\"\" Compute likelihood based on training examples\n",
    "    Args:\n",
    "        term_document_matrix (sparse matrix)\n",
    "        label_index (grouped sample indices by class)\n",
    "        smoothing (integer, additive Laplace smoothing)\n",
    "    Returns:\n",
    "        dictionary, with class label as key, corresponding\n",
    "        conditional probability P(feature|class) vector as\n",
    "        value\n",
    "    \"\"\"\n",
    "    likelihood = {}\n",
    "    for label, index in label_index.items():\n",
    "        likelihood[label] = term_document_matrix[index, :].sum(axis=0) + smoothing\n",
    "        likelihood[label] = np.asarray(likelihood[label])[0]\n",
    "        total_count = likelihood[label].sum()\n",
    "        likelihood[label] = likelihood[label] / float(total_count)\n",
    "    return likelihood"
   ]
  },
  {
   "cell_type": "markdown",
   "metadata": {},
   "source": [
    "The smoothing parameter is set to 1 here, which can also be 0 for no smoothing and any other positive value, as long as high classification performance is achieved:"
   ]
  },
  {
   "cell_type": "code",
   "execution_count": 20,
   "metadata": {},
   "outputs": [
    {
     "data": {
      "text/plain": [
       "500"
      ]
     },
     "execution_count": 20,
     "metadata": {},
     "output_type": "execute_result"
    }
   ],
   "source": [
    "smoothing = 1\n",
    "likelihood = get_likelihood(term_docs, label_index, smoothing)\n",
    "len(likelihood[0])"
   ]
  },
  {
   "cell_type": "markdown",
   "metadata": {},
   "source": [
    "likelihood[0] is the conditional probability $P(feature | legitimate)$ vector of length 500 (500 features) for legitimate classes. For example, the following are the probabilities for the first five features:"
   ]
  },
  {
   "cell_type": "code",
   "execution_count": 21,
   "metadata": {
    "scrolled": true
   },
   "outputs": [
    {
     "data": {
      "text/plain": [
       "array([0.00108883, 0.0009604 , 0.00088223, 0.00084314, 0.00010051])"
      ]
     },
     "execution_count": 21,
     "metadata": {},
     "output_type": "execute_result"
    }
   ],
   "source": [
    "likelihood[0][:5]"
   ]
  },
  {
   "cell_type": "markdown",
   "metadata": {},
   "source": [
    "Similarly,here are the first five elements of the conditional probability $P(feature|spam)$ vector:"
   ]
  },
  {
   "cell_type": "code",
   "execution_count": 22,
   "metadata": {},
   "outputs": [
    {
     "data": {
      "text/plain": [
       "array([0.00108953, 0.00141844, 0.00456368, 0.00053448, 0.0042142 ])"
      ]
     },
     "execution_count": 22,
     "metadata": {},
     "output_type": "execute_result"
    }
   ],
   "source": [
    "likelihood[1][:5]"
   ]
  },
  {
   "cell_type": "markdown",
   "metadata": {},
   "source": [
    "We can check the corresponding terms"
   ]
  },
  {
   "cell_type": "code",
   "execution_count": 23,
   "metadata": {},
   "outputs": [
    {
     "data": {
      "text/plain": [
       "['able', 'access', 'account', 'accounting', 'act']"
      ]
     },
     "execution_count": 23,
     "metadata": {},
     "output_type": "execute_result"
    }
   ],
   "source": [
    "feature_names[:5]"
   ]
  },
  {
   "cell_type": "markdown",
   "metadata": {},
   "source": [
    "With prior and likelihood ready, we can now compute the posterior. There may occur overflow error while calculationg the multiplication of hundreds of thousands of small value conditional probabilities. So, instead of multiplying we calculate the summation of their natural logarithms and then convert it back to its natural exponential value:"
   ]
  },
  {
   "cell_type": "code",
   "execution_count": 24,
   "metadata": {},
   "outputs": [],
   "source": [
    "def get_posterior(term_document_matrix, prior, likelihood):\n",
    "    \"\"\" Compute posterior if testing samples, based on prior \n",
    "        and likelihood\n",
    "    Args:\n",
    "        term_document_matrix (sparse matrix)\n",
    "        prior (dictionary, with class label as key, \n",
    "        corresponding prior as the value)\n",
    "        likelihood (dictionary, with class label as key, \n",
    "        correspondig conditional probability vector as value)\n",
    "    Returns:\n",
    "        dictionary, with class label as key, corresponding \n",
    "        posterior as value\n",
    "    \"\"\"\n",
    "    num_docs = term_document_matrix.shape[0]\n",
    "    posteriors = []\n",
    "    for i in range(num_docs):\n",
    "        # posterior is proportional to prior * likelihood\n",
    "        # = exp(log(prior * likelihood))\n",
    "        # = exp(log(prior) + log(likelihood))\n",
    "        posterior = {key: np.log(prior_label)\n",
    "                    for key, prior_label in prior.items()}\n",
    "        for label, likelihood_label in likelihood.items():\n",
    "            term_document_vector = term_document_matrix.getrow(i)\n",
    "            counts = term_document_vector.data\n",
    "            indices = term_document_vector.indices\n",
    "            for count, index in zip(counts, indices):\n",
    "                posterior[label] += np.log(likelihood_label[index]) * count\n",
    "        min_log_posterior = min(posterior.values())\n",
    "        for label in posterior:\n",
    "            try:\n",
    "                # if log value is excessively large, assign infinity\n",
    "                posterior[label] = np.exp(posterior[label] - min_log_posterior, dtype=np.float128)\n",
    "            except:\n",
    "                posterior[label] = float('inf')\n",
    "        # normalizing so that all sums up to 1\n",
    "        sum_posterior = sum(posterior.values())\n",
    "        for label in posterior:\n",
    "            if posterior[label] == float('inf'):\n",
    "                posterior[label] = 1.0\n",
    "            else:\n",
    "                posterior[label] /= sum_posterior\n",
    "        posteriors.append(posterior.copy())\n",
    "    return posteriors"
   ]
  },
  {
   "cell_type": "markdown",
   "metadata": {},
   "source": [
    "The prediction function is finished. Let's verify our algorithm."
   ]
  },
  {
   "cell_type": "code",
   "execution_count": 25,
   "metadata": {},
   "outputs": [],
   "source": [
    "emails_test = ['''Subject: make $ 171\n",
    "hello ,\n",
    "we sent you an email a while ago , because you now qualify for a new mortgage .\n",
    "you could get $ 300 , 000 for as little as $ 700 a month !\n",
    "bad credit is no problem , you can pull cash out or refinance .\n",
    "please click on this link for free consultation by a mortgage broker :\n",
    "http : / / www . hgkkdc . com /\n",
    "best regards ,\n",
    "jamie higgs\n",
    "no thanks : http : / / www . hgkkdc . com / rl\n",
    "- - - - system information - - - -\n",
    "lesser describe be problems available market actually non - java\n",
    "services think collating cpp doesn ' t known c : i - 025 :\n",
    "zh parameter implies in preferences behaviors used does''']"
   ]
  },
  {
   "cell_type": "code",
   "execution_count": 26,
   "metadata": {},
   "outputs": [
    {
     "name": "stdout",
     "output_type": "stream",
     "text": [
      "[{1: 0.99999999999502214203, 0: 4.977857950431403897e-12}]\n"
     ]
    }
   ],
   "source": [
    "cleaned_test = []\n",
    "cleaned_test = clean_test(emails_test)\n",
    "term_docs_test = cv.transform(cleaned_test)\n",
    "posterior = get_posterior(term_docs_test, prior, likelihood)\n",
    "print(posterior)"
   ]
  },
  {
   "cell_type": "markdown",
   "metadata": {},
   "source": [
    "The algorithm correctly predicts the email as 99% spam."
   ]
  },
  {
   "cell_type": "markdown",
   "metadata": {},
   "source": [
    "Let's split our data to training samples and test samples."
   ]
  },
  {
   "cell_type": "markdown",
   "metadata": {},
   "source": [
    "We use the train_test_split function from scikit-learn to do the random splitting and to preserve the percentage samples for each class"
   ]
  },
  {
   "cell_type": "code",
   "execution_count": 27,
   "metadata": {},
   "outputs": [],
   "source": [
    "from sklearn.model_selection import train_test_split\n",
    "X_train, X_test, Y_train, Y_test = train_test_split(cleaned_emails, labels, test_size=0.33, random_state=42)"
   ]
  },
  {
   "cell_type": "markdown",
   "metadata": {},
   "source": [
    "Assigning a fixed random_state(here, 42) during experiments guarantees that the same training and testing sets are generated every time the program runs"
   ]
  },
  {
   "cell_type": "code",
   "execution_count": 28,
   "metadata": {},
   "outputs": [
    {
     "data": {
      "text/plain": [
       "(3459, 3459)"
      ]
     },
     "execution_count": 28,
     "metadata": {},
     "output_type": "execute_result"
    }
   ],
   "source": [
    "len(X_train), len(Y_train)"
   ]
  },
  {
   "cell_type": "code",
   "execution_count": 29,
   "metadata": {},
   "outputs": [
    {
     "data": {
      "text/plain": [
       "(1704, 1704)"
      ]
     },
     "execution_count": 29,
     "metadata": {},
     "output_type": "execute_result"
    }
   ],
   "source": [
    "len(X_test), len(Y_test)"
   ]
  },
  {
   "cell_type": "code",
   "execution_count": 30,
   "metadata": {},
   "outputs": [],
   "source": [
    "term_docs_train = cv.fit_transform(X_train)\n",
    "label_index = get_label_index(Y_train)\n",
    "prior = get_prior(label_index)\n",
    "likelihood = get_likelihood(term_docs_train, label_index, smoothing)"
   ]
  },
  {
   "cell_type": "markdown",
   "metadata": {},
   "source": [
    "Predicting the posterior of the testing/new dataset:"
   ]
  },
  {
   "cell_type": "code",
   "execution_count": 31,
   "metadata": {},
   "outputs": [],
   "source": [
    "term_docs_test = cv.transform(X_test)\n",
    "posterior = get_posterior(term_docs_test, prior, likelihood)"
   ]
  },
  {
   "cell_type": "code",
   "execution_count": 32,
   "metadata": {},
   "outputs": [
    {
     "data": {
      "text/plain": [
       "<1704x500 sparse matrix of type '<class 'numpy.int64'>'\n",
       "\twith 36711 stored elements in Compressed Sparse Row format>"
      ]
     },
     "execution_count": 32,
     "metadata": {},
     "output_type": "execute_result"
    }
   ],
   "source": [
    "term_docs_test"
   ]
  },
  {
   "cell_type": "markdown",
   "metadata": {},
   "source": [
    "Evaluating the model's performance via the proportion of correct prediction:"
   ]
  },
  {
   "cell_type": "code",
   "execution_count": 33,
   "metadata": {},
   "outputs": [
    {
     "name": "stdout",
     "output_type": "stream",
     "text": [
      "The accuracy on 1704 testing samples is: 91.1%\n"
     ]
    }
   ],
   "source": [
    "correct = 0.0\n",
    "for pred, actual in zip(posterior, Y_test):\n",
    "    if actual == 1:\n",
    "        if pred[1] >= 0.5:\n",
    "            correct += 1\n",
    "    elif pred[0] > 0.5:\n",
    "            correct += 1\n",
    "print('The accuracy on {0} testing samples is: {1:.1f}%'.format(len(Y_test), correct/len(Y_test)*100))"
   ]
  },
  {
   "cell_type": "markdown",
   "metadata": {},
   "source": [
    "The naive Bayes classifier we just developed from scratch correctly classifies 91% of emails!"
   ]
  },
  {
   "cell_type": "markdown",
   "metadata": {},
   "source": [
    "# Using MultinomialNB"
   ]
  },
  {
   "cell_type": "markdown",
   "metadata": {},
   "source": [
    "The scikit-learn API MultinomialNB class which can be used for naive Bayes classification"
   ]
  },
  {
   "cell_type": "code",
   "execution_count": 34,
   "metadata": {},
   "outputs": [],
   "source": [
    "from sklearn.naive_bayes import MultinomialNB"
   ]
  },
  {
   "cell_type": "markdown",
   "metadata": {},
   "source": [
    "We initialized a model with smoothing favtor(alpha in scikit-learn) and prior(specified as fit_prior in scikit-learn)"
   ]
  },
  {
   "cell_type": "code",
   "execution_count": 35,
   "metadata": {},
   "outputs": [],
   "source": [
    "clf = MultinomialNB(alpha=1.0, fit_prior=True)"
   ]
  },
  {
   "cell_type": "markdown",
   "metadata": {},
   "source": [
    "Training the classifier with the fit method:"
   ]
  },
  {
   "cell_type": "code",
   "execution_count": 36,
   "metadata": {},
   "outputs": [
    {
     "data": {
      "text/plain": [
       "MultinomialNB(alpha=1.0, class_prior=None, fit_prior=True)"
      ]
     },
     "execution_count": 36,
     "metadata": {},
     "output_type": "execute_result"
    }
   ],
   "source": [
    "clf.fit(term_docs_train, Y_train)"
   ]
  },
  {
   "cell_type": "markdown",
   "metadata": {},
   "source": [
    "Obtaining prediction results with the predict_proba method:"
   ]
  },
  {
   "cell_type": "code",
   "execution_count": 37,
   "metadata": {
    "scrolled": true
   },
   "outputs": [
    {
     "data": {
      "text/plain": [
       "array([[1.00000000e+000, 3.36246989e-257],\n",
       "       [9.97892386e-001, 2.10761350e-003],\n",
       "       [1.00000000e+000, 2.63274791e-039],\n",
       "       [5.54127654e-021, 1.00000000e+000],\n",
       "       [9.99999969e-001, 3.12245125e-008],\n",
       "       [1.00000000e+000, 1.87687745e-015],\n",
       "       [1.92912323e-019, 1.00000000e+000],\n",
       "       [2.24108715e-002, 9.77589128e-001],\n",
       "       [1.00000000e+000, 7.35124116e-019],\n",
       "       [9.99999981e-001, 1.93413647e-008]])"
      ]
     },
     "execution_count": 37,
     "metadata": {},
     "output_type": "execute_result"
    }
   ],
   "source": [
    "prediction_prob = clf.predict_proba(term_docs_test)\n",
    "prediction_prob[0:10]"
   ]
  },
  {
   "cell_type": "markdown",
   "metadata": {},
   "source": [
    "Directly acquiring the predicted class values with the predict method:"
   ]
  },
  {
   "cell_type": "code",
   "execution_count": 38,
   "metadata": {},
   "outputs": [
    {
     "data": {
      "text/plain": [
       "array([0, 0, 0, 1, 0, 0, 1, 1, 0, 0])"
      ]
     },
     "execution_count": 38,
     "metadata": {},
     "output_type": "execute_result"
    }
   ],
   "source": [
    "prediction = clf.predict(term_docs_test)\n",
    "prediction[:10]"
   ]
  },
  {
   "cell_type": "markdown",
   "metadata": {},
   "source": [
    "Measuring the accuracy by calling the score method"
   ]
  },
  {
   "cell_type": "code",
   "execution_count": 39,
   "metadata": {
    "scrolled": true
   },
   "outputs": [
    {
     "name": "stdout",
     "output_type": "stream",
     "text": [
      "The accuracy using MultinomialNB is: 91.1%\n"
     ]
    }
   ],
   "source": [
    "accuracy = clf.score(term_docs_test, Y_test)\n",
    "print('The accuracy using MultinomialNB is: {0:.1f}%'.format(accuracy*100))"
   ]
  },
  {
   "cell_type": "markdown",
   "metadata": {},
   "source": [
    "## Performance evaluation"
   ]
  },
  {
   "cell_type": "markdown",
   "metadata": {},
   "source": [
    "We have evaluated the performance of the classifier by prediction accuracy. Beyond accuracy, there are several measurements that give us more insights and avoid class imbalance effects."
   ]
  },
  {
   "cell_type": "markdown",
   "metadata": {},
   "source": [
    "__Confusion matrix__ summarizes testing instances by their predicted values and true values, presented as a contingency table:"
   ]
  },
  {
   "cell_type": "markdown",
   "metadata": {},
   "source": [
    "<table>\n",
    "  <tr>\n",
    "    <th></th>\n",
    "    <th></th>\n",
    "    <th colspan=\"2\">Predicted</th>\n",
    "  </tr>\n",
    "  <tr>\n",
    "    <td></td>\n",
    "    <td></td>\n",
    "    <td>Negative</td>\n",
    "    <td>Positive</td>\n",
    "  </tr>\n",
    "  <tr>\n",
    "    <td rowspan=\"2\">Actual</td>\n",
    "    <td>Negative</td>\n",
    "    <td>TN</td>\n",
    "    <td>FP</td>\n",
    "  </tr>\n",
    "  <tr>\n",
    "    <td>Positive</td>\n",
    "    <td>FN</td>\n",
    "    <td>TP</td>\n",
    "  </tr>\n",
    "</table>"
   ]
  },
  {
   "cell_type": "markdown",
   "metadata": {},
   "source": [
    "TN = True Negative\n",
    "FP = False Positive\n",
    "FN = False Negative\n",
    "TP = True Positive"
   ]
  },
  {
   "cell_type": "markdown",
   "metadata": {},
   "source": [
    "Using the scikit-learn confusion_matrix function we compute the confusion matrix of our naive Bayes classifier"
   ]
  },
  {
   "cell_type": "code",
   "execution_count": 40,
   "metadata": {},
   "outputs": [
    {
     "data": {
      "text/plain": [
       "array([[1085,  103],\n",
       "       [  48,  468]])"
      ]
     },
     "execution_count": 40,
     "metadata": {},
     "output_type": "execute_result"
    }
   ],
   "source": [
    "from sklearn.metrics import confusion_matrix\n",
    "confusion_matrix(Y_test, prediction, labels=[0,1])"
   ]
  },
  {
   "cell_type": "markdown",
   "metadata": {},
   "source": [
    "From the confusion matrix, it is clear that there are 103 false positive case (where it misinterprets a legitimate email as a spam one), and 48 false negative cases (where it fails to detect a spam email)"
   ]
  },
  {
   "cell_type": "markdown",
   "metadata": {},
   "source": [
    "The classification accuracy is just the proportion of all true cases:\n",
    "\n",
    "$ \\frac{TN+TP}{TN+TP+FP+FN} = \\frac{1085+468}{1704} = 91.1\\%$"
   ]
  },
  {
   "cell_type": "markdown",
   "metadata": {},
   "source": [
    "Precision measures the fraction of positive calls that are correct, that is \n",
    "\n",
    "$\\frac{TP}{TP+FP} = \\frac{468}{468+103} = 0.819$"
   ]
  },
  {
   "cell_type": "markdown",
   "metadata": {},
   "source": [
    "Recall measures the fraction of true positives that are correctly identified\n",
    "\n",
    "$ \\frac{TP}{TP+FN}= \\frac{468}{468+48} = 0.906 $ \n",
    "\n",
    "Recall is also called true positive rate."
   ]
  },
  {
   "cell_type": "markdown",
   "metadata": {},
   "source": [
    "The F1 score comprehensively includes both the precision and the recall, and equates to their harmonic mean: $F1 = 2 * \\frac{precision*recall}{precision+recall}$"
   ]
  },
  {
   "cell_type": "markdown",
   "metadata": {},
   "source": [
    "Let's compute these three measurements"
   ]
  },
  {
   "cell_type": "code",
   "execution_count": 41,
   "metadata": {},
   "outputs": [
    {
     "data": {
      "text/plain": [
       "0.819614711033275"
      ]
     },
     "execution_count": 41,
     "metadata": {},
     "output_type": "execute_result"
    }
   ],
   "source": [
    "from sklearn.metrics import precision_score, recall_score, f1_score\n",
    "precision_score(Y_test, prediction, pos_label=1)"
   ]
  },
  {
   "cell_type": "code",
   "execution_count": 42,
   "metadata": {},
   "outputs": [
    {
     "data": {
      "text/plain": [
       "0.9069767441860465"
      ]
     },
     "execution_count": 42,
     "metadata": {},
     "output_type": "execute_result"
    }
   ],
   "source": [
    "recall_score(Y_test, prediction, pos_label=1)"
   ]
  },
  {
   "cell_type": "code",
   "execution_count": 43,
   "metadata": {},
   "outputs": [
    {
     "data": {
      "text/plain": [
       "0.861085556577737"
      ]
     },
     "execution_count": 43,
     "metadata": {},
     "output_type": "execute_result"
    }
   ],
   "source": [
    "f1_score(Y_test, prediction, pos_label=1)"
   ]
  },
  {
   "cell_type": "markdown",
   "metadata": {},
   "source": [
    "To obtain the precision, recall, and f1 score for each class, the quickest way is to call the classification_report function:"
   ]
  },
  {
   "cell_type": "code",
   "execution_count": 45,
   "metadata": {},
   "outputs": [
    {
     "name": "stdout",
     "output_type": "stream",
     "text": [
      "              precision    recall  f1-score   support\n",
      "\n",
      "           0       0.96      0.91      0.93      1188\n",
      "           1       0.82      0.91      0.86       516\n",
      "\n",
      "    accuracy                           0.91      1704\n",
      "   macro avg       0.89      0.91      0.90      1704\n",
      "weighted avg       0.92      0.91      0.91      1704\n",
      "\n"
     ]
    }
   ],
   "source": [
    "from sklearn.metrics import classification_report\n",
    "report = classification_report(Y_test, prediction)\n",
    "print(report)"
   ]
  },
  {
   "cell_type": "code",
   "execution_count": null,
   "metadata": {},
   "outputs": [],
   "source": []
  }
 ],
 "metadata": {
  "kernelspec": {
   "display_name": "Python 3",
   "language": "python",
   "name": "python3"
  },
  "language_info": {
   "codemirror_mode": {
    "name": "ipython",
    "version": 3
   },
   "file_extension": ".py",
   "mimetype": "text/x-python",
   "name": "python",
   "nbconvert_exporter": "python",
   "pygments_lexer": "ipython3",
   "version": "3.7.3"
  }
 },
 "nbformat": 4,
 "nbformat_minor": 2
}
